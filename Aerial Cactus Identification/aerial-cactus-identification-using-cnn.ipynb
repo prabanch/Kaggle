{
 "cells": [
  {
   "cell_type": "markdown",
   "metadata": {},
   "source": [
    "https://www.kaggle.com/competitions/aerial-cactus-identification"
   ]
  },
  {
   "cell_type": "code",
   "execution_count": 1,
   "metadata": {
    "_uuid": "633d370c95a67365fe0186007aa352d8d35e625c"
   },
   "outputs": [
    {
     "name": "stderr",
     "output_type": "stream",
     "text": [
      "Using TensorFlow backend.\n"
     ]
    }
   ],
   "source": [
    "import keras\n",
    "from keras.models import Sequential\n",
    "from keras.layers import Dense, Dropout, Flatten\n",
    "from keras.layers import Conv2D, MaxPooling2D\n",
    "from keras.utils import to_categorical\n",
    "from keras.preprocessing import image\n",
    "import numpy as np\n",
    "import pandas as pd\n",
    "import matplotlib.pyplot as plt\n",
    "from sklearn.model_selection import train_test_split\n",
    "from keras.utils import to_categorical\n",
    "from tqdm import tqdm\n",
    "\n",
    "from sklearn.metrics import accuracy_score\n",
    "from sklearn.metrics import precision_score\n",
    "from sklearn.metrics import recall_score\n",
    "from sklearn.metrics import f1_score\n",
    "from sklearn.metrics import cohen_kappa_score\n",
    "from sklearn.metrics import roc_auc_score\n",
    "from sklearn.metrics import confusion_matrix\n",
    "from keras.optimizers import SGD\n",
    "import cv2\n",
    "from keras.layers.normalization import BatchNormalization\n",
    "from keras.layers.convolutional import Conv2D\n",
    "from keras.layers.convolutional import MaxPooling2D\n",
    "from keras.layers.core import Activation\n",
    "from keras.models import load_model\n",
    "\n",
    "from keras.utils import np_utils\n",
    "\n",
    "from keras import applications\n",
    "\n",
    "from keras import optimizers\n",
    "from keras.models import Sequential,Model,load_model\n",
    "from keras.layers import Dense, Dropout, Flatten, Conv2D, MaxPool2D,GlobalAveragePooling2D\n",
    "from keras.callbacks import TensorBoard,ReduceLROnPlateau,ModelCheckpoint"
   ]
  },
  {
   "cell_type": "code",
   "execution_count": 2,
   "metadata": {},
   "outputs": [],
   "source": [
    "import os\n",
    "# print(os.listdir(\"../input/test/test/\"))"
   ]
  },
  {
   "cell_type": "code",
   "execution_count": 3,
   "metadata": {
    "_uuid": "c13b706b9f4777d0e761c0b837d97b52b3e2eda7"
   },
   "outputs": [],
   "source": [
    "path = \"../input/\"\n",
    "train=pd.read_csv(path+'train.csv')\n",
    "test = pd.read_csv(path+'sample_submission.csv')"
   ]
  },
  {
   "cell_type": "code",
   "execution_count": 4,
   "metadata": {},
   "outputs": [
    {
     "data": {
      "text/html": [
       "<div>\n",
       "<style scoped>\n",
       "    .dataframe tbody tr th:only-of-type {\n",
       "        vertical-align: middle;\n",
       "    }\n",
       "\n",
       "    .dataframe tbody tr th {\n",
       "        vertical-align: top;\n",
       "    }\n",
       "\n",
       "    .dataframe thead th {\n",
       "        text-align: right;\n",
       "    }\n",
       "</style>\n",
       "<table border=\"1\" class=\"dataframe\">\n",
       "  <thead>\n",
       "    <tr style=\"text-align: right;\">\n",
       "      <th></th>\n",
       "      <th>id</th>\n",
       "      <th>has_cactus</th>\n",
       "    </tr>\n",
       "  </thead>\n",
       "  <tbody>\n",
       "    <tr>\n",
       "      <th>0</th>\n",
       "      <td>000940378805c44108d287872b2f04ce.jpg</td>\n",
       "      <td>0.5</td>\n",
       "    </tr>\n",
       "    <tr>\n",
       "      <th>1</th>\n",
       "      <td>0017242f54ececa4512b4d7937d1e21e.jpg</td>\n",
       "      <td>0.5</td>\n",
       "    </tr>\n",
       "    <tr>\n",
       "      <th>2</th>\n",
       "      <td>001ee6d8564003107853118ab87df407.jpg</td>\n",
       "      <td>0.5</td>\n",
       "    </tr>\n",
       "    <tr>\n",
       "      <th>3</th>\n",
       "      <td>002e175c3c1e060769475f52182583d0.jpg</td>\n",
       "      <td>0.5</td>\n",
       "    </tr>\n",
       "    <tr>\n",
       "      <th>4</th>\n",
       "      <td>0036e44a7e8f7218e9bc7bf8137e4943.jpg</td>\n",
       "      <td>0.5</td>\n",
       "    </tr>\n",
       "  </tbody>\n",
       "</table>\n",
       "</div>"
      ],
      "text/plain": [
       "                                     id  has_cactus\n",
       "0  000940378805c44108d287872b2f04ce.jpg         0.5\n",
       "1  0017242f54ececa4512b4d7937d1e21e.jpg         0.5\n",
       "2  001ee6d8564003107853118ab87df407.jpg         0.5\n",
       "3  002e175c3c1e060769475f52182583d0.jpg         0.5\n",
       "4  0036e44a7e8f7218e9bc7bf8137e4943.jpg         0.5"
      ]
     },
     "execution_count": 4,
     "metadata": {},
     "output_type": "execute_result"
    }
   ],
   "source": [
    "test.head()"
   ]
  },
  {
   "cell_type": "code",
   "execution_count": 5,
   "metadata": {},
   "outputs": [
    {
     "name": "stdout",
     "output_type": "stream",
     "text": [
      "1    13136\n",
      "0     4364\n",
      "Name: has_cactus, dtype: int64\n",
      "1    13136\n",
      "0     4364\n",
      "Name: has_cactus, dtype: int64\n"
     ]
    }
   ],
   "source": [
    "# As it is a multi-class classification problem (3 classes), we will one-hot encode the target variable.\n",
    "from sklearn.preprocessing import LabelEncoder, OneHotEncoder\n",
    "labelencoder = LabelEncoder()\n",
    "train['has_cactus_en'] = labelencoder.fit_transform(train['has_cactus'])\n",
    "\n",
    "\n",
    "\n",
    "print(train['has_cactus'].value_counts())\n",
    "print(train['has_cactus'].value_counts())\n",
    "\n",
    "\n",
    "y=train['has_cactus']"
   ]
  },
  {
   "cell_type": "code",
   "execution_count": 6,
   "metadata": {},
   "outputs": [
    {
     "data": {
      "text/plain": [
       "1    13136\n",
       "0     4364\n",
       "Name: has_cactus, dtype: int64"
      ]
     },
     "execution_count": 6,
     "metadata": {},
     "output_type": "execute_result"
    }
   ],
   "source": [
    "train.has_cactus.value_counts()"
   ]
  },
  {
   "cell_type": "code",
   "execution_count": 7,
   "metadata": {},
   "outputs": [
    {
     "name": "stderr",
     "output_type": "stream",
     "text": [
      "100%|██████████| 17500/17500 [00:32<00:00, 545.40it/s]\n",
      "100%|██████████| 4000/4000 [00:06<00:00, 594.10it/s]\n"
     ]
    }
   ],
   "source": [
    "def load_images(path, df):\n",
    "    train_image = []\n",
    "    for i in tqdm(range(df.shape[0])):\n",
    "        try:\n",
    "#             print(df_image_path+df['id'][i])\n",
    "            img = cv2.imread((path+df['id'][i]))\n",
    "            img = cv2.resize(img, (64,64))\n",
    "\n",
    "#             img = cv2.cvtColor(img, cv2.COLOR_BGR2GRAY)\n",
    "\n",
    "            img = image.img_to_array(img)\n",
    "            img = img/255\n",
    "            train_image.append(img)\n",
    "        except OSError:\n",
    "            print(df['id'][i])\n",
    "    image_array = np.array(train_image)   \n",
    "    return image_array\n",
    "        \n",
    "            \n",
    "train_image_path = '../input/train/train/'\n",
    "test_image_path  = '../input/test/test/'\n",
    "\n",
    "X = load_images(train_image_path,train)\n",
    "test_images = load_images(test_image_path, test)\n"
   ]
  },
  {
   "cell_type": "code",
   "execution_count": 8,
   "metadata": {},
   "outputs": [],
   "source": [
    "# test_image = []\n",
    "# for i in tqdm(range(test.shape[0])):\n",
    "# # for i in range(0,1):\n",
    "# #     try:\n",
    "#     img = cv2.imread((image_path+test['image'][i]))\n",
    "#     img = cv2.resize(img, (200,120))\n",
    "# #     img = cv2.cvtColor(img, cv2.COLOR_BGR2GRAY)\n",
    "#     img = image.img_to_array(img)\n",
    "#     img = img/255\n",
    "    \n",
    "#     test_image.append(img)\n",
    "# #     except OSError:\n",
    "# #         print(train['file_path'][i])\n",
    "# test_images = np.array(test_image)"
   ]
  },
  {
   "cell_type": "code",
   "execution_count": 9,
   "metadata": {},
   "outputs": [
    {
     "data": {
      "text/plain": [
       "<matplotlib.axes._subplots.AxesSubplot at 0x7fdd894ddcf8>"
      ]
     },
     "execution_count": 9,
     "metadata": {},
     "output_type": "execute_result"
    },
    {
     "data": {
      "image/png": "[encoded data removed]",
      "text/plain": [
       "<Figure size 432x288 with 1 Axes>"
      ]
     },
     "metadata": {
      "needs_background": "light"
     },
     "output_type": "display_data"
    }
   ],
   "source": [
    "import seaborn as sns\n",
    "sns.countplot(train['has_cactus'])"
   ]
  },
  {
   "cell_type": "code",
   "execution_count": 10,
   "metadata": {},
   "outputs": [
    {
     "data": {
      "text/plain": [
       "array([2.00504125, 0.6661084 ])"
      ]
     },
     "execution_count": 10,
     "metadata": {},
     "output_type": "execute_result"
    }
   ],
   "source": [
    "import numpy as np\n",
    "from sklearn.utils.class_weight import compute_class_weight\n",
    "\n",
    "class_weights = compute_class_weight('balanced', np.unique(y), y)\n",
    "class_weights"
   ]
  },
  {
   "cell_type": "code",
   "execution_count": 11,
   "metadata": {},
   "outputs": [],
   "source": [
    "# Normalize the data\n",
    "# X = X / 255.0\n",
    "# test = test / 255.0\n",
    "\n"
   ]
  },
  {
   "cell_type": "code",
   "execution_count": 12,
   "metadata": {
    "_uuid": "e62a89ec37bbb3eea04e42d4f2ecf6d85677e72b"
   },
   "outputs": [],
   "source": [
    "# Step 4: Creating a validation set from the training data.\n",
    "\n",
    "X_train, X_test, y_train, y_test_class = train_test_split(X, y, random_state=42, test_size=0.2)\n"
   ]
  },
  {
   "cell_type": "code",
   "execution_count": 13,
   "metadata": {},
   "outputs": [],
   "source": [
    "\n",
    "y_train = pd.get_dummies(y_train)\n",
    "y_test = pd.get_dummies(y_test_class)\n"
   ]
  },
  {
   "cell_type": "code",
   "execution_count": 14,
   "metadata": {
    "_uuid": "05293ba202a5a59395b835839ed03704c7d2fea6"
   },
   "outputs": [],
   "source": [
    "# Step 5: Define the model structure.\n",
    "\n",
    "# We will create a simple architecture with 2 convolutional layers, one dense hidden layer and an output layer.\n",
    "\n",
    "model = Sequential()\n",
    "# model.add(Conv2D(64, kernel_size=(3, 3), padding='same',activation='relu',input_shape=(200,200,3)))\n",
    "# model.add(Conv2D(64, (3, 3), padding='same', activation='relu'))\n",
    "# model.add(MaxPooling2D(pool_size=(2, 2)))\n",
    "# model.add(Dropout(0.25))\n",
    "\n",
    "model.add(Conv2D(32, (3, 3), padding=\"same\",  activation='relu',input_shape=(64,64,3)))\n",
    "model.add(BatchNormalization())\n",
    "model.add(MaxPooling2D(pool_size=(3, 3)))\n",
    "model.add(Dropout(0.25))\n",
    "\n",
    "# (CONV => RELU) * 2 => POOL\n",
    "model.add(Conv2D(64, (3, 3), padding=\"same\", activation='relu' ))\n",
    "model.add(BatchNormalization())\n",
    "model.add(Conv2D(64, (3, 3), padding=\"same\", activation='relu'))\n",
    "model.add(BatchNormalization())\n",
    "model.add(MaxPooling2D(pool_size=(2, 2)))\n",
    "model.add(Dropout(0.25))\n",
    "          \n",
    "          \n",
    "# (CONV => RELU) * 2 => POOL\n",
    "model.add(Conv2D(128, (3, 3), padding=\"same\", activation='relu' ))\n",
    "model.add(BatchNormalization())\n",
    "model.add(Conv2D(128, (3, 3), padding=\"same\", activation='relu' ))\n",
    "model.add(BatchNormalization())\n",
    "model.add(MaxPooling2D(pool_size=(2, 2)))\n",
    "model.add(Dropout(0.25))\n",
    "\n",
    "model.add(Flatten())\n",
    "          \n",
    "model.add(Dense(512, activation='relu'))\n",
    "model.add(Dropout(0.2))\n",
    "\n",
    "model.add(Dense(256, activation='relu'))\n",
    "model.add(Dropout(0.50))\n",
    "\n",
    "model.add(Dense(128, activation='relu'))\n",
    "model.add(Dropout(0.25))\n",
    "\n",
    "model.add(Dense(2, activation='softmax'))"
   ]
  },
  {
   "cell_type": "code",
   "execution_count": 15,
   "metadata": {},
   "outputs": [
    {
     "name": "stdout",
     "output_type": "stream",
     "text": [
      "_________________________________________________________________\n",
      "Layer (type)                 Output Shape              Param #   \n",
      "=================================================================\n",
      "conv2d_1 (Conv2D)            (None, 64, 64, 32)        896       \n",
      "_________________________________________________________________\n",
      "batch_normalization_1 (Batch (None, 64, 64, 32)        128       \n",
      "_________________________________________________________________\n",
      "max_pooling2d_1 (MaxPooling2 (None, 21, 21, 32)        0         \n",
      "_________________________________________________________________\n",
      "dropout_1 (Dropout)          (None, 21, 21, 32)        0         \n",
      "_________________________________________________________________\n",
      "conv2d_2 (Conv2D)            (None, 21, 21, 64)        18496     \n",
      "_________________________________________________________________\n",
      "batch_normalization_2 (Batch (None, 21, 21, 64)        256       \n",
      "_________________________________________________________________\n",
      "conv2d_3 (Conv2D)            (None, 21, 21, 64)        36928     \n",
      "_________________________________________________________________\n",
      "batch_normalization_3 (Batch (None, 21, 21, 64)        256       \n",
      "_________________________________________________________________\n",
      "max_pooling2d_2 (MaxPooling2 (None, 10, 10, 64)        0         \n",
      "_________________________________________________________________\n",
      "dropout_2 (Dropout)          (None, 10, 10, 64)        0         \n",
      "_________________________________________________________________\n",
      "conv2d_4 (Conv2D)            (None, 10, 10, 128)       73856     \n",
      "_________________________________________________________________\n",
      "batch_normalization_4 (Batch (None, 10, 10, 128)       512       \n",
      "_________________________________________________________________\n",
      "conv2d_5 (Conv2D)            (None, 10, 10, 128)       147584    \n",
      "_________________________________________________________________\n",
      "batch_normalization_5 (Batch (None, 10, 10, 128)       512       \n",
      "_________________________________________________________________\n",
      "max_pooling2d_3 (MaxPooling2 (None, 5, 5, 128)         0         \n",
      "_________________________________________________________________\n",
      "dropout_3 (Dropout)          (None, 5, 5, 128)         0         \n",
      "_________________________________________________________________\n",
      "flatten_1 (Flatten)          (None, 3200)              0         \n",
      "_________________________________________________________________\n",
      "dense_1 (Dense)              (None, 512)               1638912   \n",
      "_________________________________________________________________\n",
      "dropout_4 (Dropout)          (None, 512)               0         \n",
      "_________________________________________________________________\n",
      "dense_2 (Dense)              (None, 256)               131328    \n",
      "_________________________________________________________________\n",
      "dropout_5 (Dropout)          (None, 256)               0         \n",
      "_________________________________________________________________\n",
      "dense_3 (Dense)              (None, 128)               32896     \n",
      "_________________________________________________________________\n",
      "dropout_6 (Dropout)          (None, 128)               0         \n",
      "_________________________________________________________________\n",
      "dense_4 (Dense)              (None, 2)                 258       \n",
      "=================================================================\n",
      "Total params: 2,082,818\n",
      "Trainable params: 2,081,986\n",
      "Non-trainable params: 832\n",
      "_________________________________________________________________\n"
     ]
    }
   ],
   "source": [
    "model.summary()"
   ]
  },
  {
   "cell_type": "code",
   "execution_count": 16,
   "metadata": {
    "_uuid": "cb4cc569dd040f4a7ac446213b33a51edda9b8b7"
   },
   "outputs": [],
   "source": [
    "# Next, we will compile the model we’ve created.\n",
    "opt = SGD(lr=1e-3, momentum=0.9, decay=1e-3 / 25)\n",
    "model.compile(loss='binary_crossentropy',optimizer=opt,metrics=['accuracy'])\n"
   ]
  },
  {
   "cell_type": "code",
   "execution_count": 17,
   "metadata": {},
   "outputs": [
    {
     "name": "stdout",
     "output_type": "stream",
     "text": [
      "augmentation\n"
     ]
    }
   ],
   "source": [
    "# Data Augmentation\n",
    "from keras.preprocessing.image import ImageDataGenerator, array_to_img, img_to_array, load_img\n",
    "\n",
    "datagen = ImageDataGenerator(\n",
    "        rotation_range=10,\n",
    "        width_shift_range=0.2,\n",
    "        height_shift_range=0.2,\n",
    "        shear_range=0.2,\n",
    "        zoom_range=0.2,\n",
    "        horizontal_flip=True,\n",
    "        fill_mode='nearest')\n",
    "\n",
    "datagen.fit(X_train)\n",
    "print('augmentation')"
   ]
  },
  {
   "cell_type": "code",
   "execution_count": 18,
   "metadata": {
    "_uuid": "0d57b134c8d46f27c41a9fb65a148111165cab12"
   },
   "outputs": [
    {
     "name": "stdout",
     "output_type": "stream",
     "text": [
      "Epoch 1/1\n",
      "70/70 [==============================] - 15s 212ms/step - loss: 0.4707 - acc: 0.8201 - val_loss: 0.2631 - val_acc: 0.8837\n",
      " class weight\n"
     ]
    }
   ],
   "source": [
    "# Step 6: Training the model.\n",
    "\n",
    "# In this step, we will train the model on the training set images and validate it using, you guessed it, the validation set.\n",
    "batch_size = 200\n",
    "# results  = model.fit(X_train, y_train, epochs=3, validation_data=(X_test, y_test))\n",
    "\n",
    "results  = model.fit_generator(datagen.flow(X_train, y_train, batch_size = batch_size), epochs=1, \n",
    "                              steps_per_epoch=X_train.shape[0] // batch_size, \n",
    "                              validation_data=(X_test, y_test),\n",
    "                             class_weight = class_weights)\n",
    "print(' class weight')"
   ]
  },
  {
   "cell_type": "code",
   "execution_count": 19,
   "metadata": {},
   "outputs": [
    {
     "data": {
      "text/plain": [
       "keras.callbacks.History"
      ]
     },
     "execution_count": 19,
     "metadata": {},
     "output_type": "execute_result"
    }
   ],
   "source": [
    "type(model.history)"
   ]
  },
  {
   "cell_type": "code",
   "execution_count": 20,
   "metadata": {},
   "outputs": [
    {
     "data": {
      "image/png": "[encoded data removed]",
      "text/plain": [
       "<Figure size 432x288 with 2 Axes>"
      ]
     },
     "metadata": {
      "needs_background": "light"
     },
     "output_type": "display_data"
    }
   ],
   "source": [
    "# Plot the loss and accuracy curves for training and validation \n",
    "fig, ax = plt.subplots(2,1)\n",
    "ax[0].plot(results.history['loss'], color='b', label=\"Training loss\")\n",
    "ax[0].plot(results.history['val_loss'], color='r', label=\"validation loss\",axes =ax[0])\n",
    "legend = ax[0].legend(loc='best', shadow=True)\n",
    "\n",
    "ax[1].plot(results.history['acc'], color='b', label=\"Training accuracy\")\n",
    "ax[1].plot(results.history['val_acc'], color='r',label=\"Validation accuracy\")\n",
    "legend = ax[1].legend(loc='best', shadow=True)"
   ]
  },
  {
   "cell_type": "code",
   "execution_count": 21,
   "metadata": {
    "_uuid": "b6d2cd69327f5ba2c6d94ba9118cfd17f63b4320"
   },
   "outputs": [
    {
     "name": "stdout",
     "output_type": "stream",
     "text": [
      "Final loss: 0.2631, final accuracy: 0.8837\n"
     ]
    }
   ],
   "source": [
    "# Step 7: Find Accuracy\n",
    "final_loss, final_acc = model.evaluate(X_test, y_test, verbose=0)\n",
    "print(\"Final loss: {0:.4f}, final accuracy: {1:.4f}\".format(final_loss, final_acc))"
   ]
  },
  {
   "cell_type": "code",
   "execution_count": 22,
   "metadata": {},
   "outputs": [
    {
     "data": {
      "image/png": "[encoded data removed]",
      "text/plain": [
       "<Figure size 432x288 with 2 Axes>"
      ]
     },
     "metadata": {
      "needs_background": "light"
     },
     "output_type": "display_data"
    }
   ],
   "source": [
    "\n",
    "# Look at confusion matrix \n",
    "import itertools\n",
    "def plot_confusion_matrix(cm, classes,\n",
    "                          title='Confusion matrix',\n",
    "                          cmap=plt.cm.Blues):\n",
    "    \"\"\"\n",
    "    This function prints and plots the confusion matrix.\n",
    "    Normalization can be applied by setting `normalize=True`.\n",
    "    \"\"\"\n",
    "    plt.imshow(cm, interpolation='nearest', cmap=cmap)\n",
    "    plt.title(title)\n",
    "    plt.colorbar()\n",
    "    tick_marks = np.arange(len(classes)) \n",
    "    plt.xticks(tick_marks, classes , rotation=45)\n",
    "    plt.yticks(tick_marks, classes)\n",
    "\n",
    "\n",
    "    thresh = cm.max() / 2.\n",
    "    for i, j in itertools.product(range(cm.shape[0]), range(cm.shape[1])):\n",
    "        plt.text(j, i, cm[i, j],\n",
    "                 horizontalalignment=\"center\",\n",
    "                 color=\"white\" if cm[i, j] > thresh else \"black\")\n",
    "\n",
    "    plt.tight_layout()\n",
    "    plt.ylabel('True label')\n",
    "    plt.xlabel('Predicted label')\n",
    "\n",
    "# Predict the values from the validation dataset\n",
    "Y_pred = model.predict_classes(X_test) \n",
    "\n",
    "# compute the confusion matrix\n",
    "confusion_mtx = confusion_matrix(y_test_class, Y_pred) \n",
    "confusion_mtx\n",
    "# plot the confusion matrix\n",
    "plot_confusion_matrix(confusion_mtx, classes = range(0,2)) "
   ]
  },
  {
   "cell_type": "code",
   "execution_count": 23,
   "metadata": {},
   "outputs": [],
   "source": [
    "base_cnn_pred  = model.predict_classes(test_images)"
   ]
  },
  {
   "cell_type": "code",
   "execution_count": 24,
   "metadata": {},
   "outputs": [
    {
     "name": "stderr",
     "output_type": "stream",
     "text": [
      "/opt/conda/lib/python3.6/site-packages/keras_applications/resnet50.py:265: UserWarning: The output shape of `ResNet50(include_top=False)` has been changed since Keras 2.2.0.\n",
      "  warnings.warn('The output shape of `ResNet50(include_top=False)` '\n"
     ]
    },
    {
     "name": "stdout",
     "output_type": "stream",
     "text": [
      "Epoch 1/100\n",
      "70/70 [==============================] - 32s 457ms/step - loss: 0.4707 - acc: 0.8151 - val_loss: 0.3561 - val_acc: 0.8760\n",
      "Epoch 2/100\n",
      "70/70 [==============================] - 16s 227ms/step - loss: 0.3383 - acc: 0.8733 - val_loss: 0.3763 - val_acc: 0.8889\n",
      "Epoch 3/100\n",
      "70/70 [==============================] - 17s 242ms/step - loss: 0.3064 - acc: 0.8880 - val_loss: 0.4455 - val_acc: 0.8703\n",
      "Epoch 4/100\n",
      "70/70 [==============================] - 17s 240ms/step - loss: 0.2741 - acc: 0.8980 - val_loss: 0.2606 - val_acc: 0.9014\n",
      "Epoch 5/100\n",
      "70/70 [==============================] - 17s 240ms/step - loss: 0.2522 - acc: 0.9034 - val_loss: 0.2388 - val_acc: 0.9231\n",
      "Epoch 6/100\n",
      "70/70 [==============================] - 17s 242ms/step - loss: 0.2328 - acc: 0.9151 - val_loss: 0.2293 - val_acc: 0.9257\n",
      "Epoch 7/100\n",
      "70/70 [==============================] - 17s 241ms/step - loss: 0.2141 - acc: 0.9186 - val_loss: 0.2400 - val_acc: 0.9266\n",
      "Epoch 8/100\n",
      "70/70 [==============================] - 17s 241ms/step - loss: 0.1941 - acc: 0.9257 - val_loss: 0.2073 - val_acc: 0.9309\n",
      "Epoch 9/100\n",
      "70/70 [==============================] - 17s 241ms/step - loss: 0.1837 - acc: 0.9306 - val_loss: 0.2013 - val_acc: 0.9266\n",
      "Epoch 10/100\n",
      "70/70 [==============================] - 17s 240ms/step - loss: 0.1650 - acc: 0.9363 - val_loss: 0.4031 - val_acc: 0.8611\n",
      "Epoch 11/100\n",
      "70/70 [==============================] - 17s 239ms/step - loss: 0.1562 - acc: 0.9426 - val_loss: 0.4426 - val_acc: 0.8551\n",
      "Epoch 12/100\n",
      "70/70 [==============================] - 17s 238ms/step - loss: 0.1355 - acc: 0.9484 - val_loss: 0.2342 - val_acc: 0.9137\n",
      "Epoch 13/100\n",
      "70/70 [==============================] - 17s 241ms/step - loss: 0.1334 - acc: 0.9490 - val_loss: 0.1225 - val_acc: 0.9554\n",
      "Epoch 14/100\n",
      "70/70 [==============================] - 17s 237ms/step - loss: 0.1274 - acc: 0.9517 - val_loss: 0.1184 - val_acc: 0.9554\n",
      "Epoch 15/100\n",
      "70/70 [==============================] - 17s 238ms/step - loss: 0.1128 - acc: 0.9561 - val_loss: 0.2276 - val_acc: 0.9137\n",
      "Epoch 16/100\n",
      "70/70 [==============================] - 17s 237ms/step - loss: 0.1010 - acc: 0.9611 - val_loss: 0.1431 - val_acc: 0.9440\n",
      "Epoch 17/100\n",
      "70/70 [==============================] - 17s 240ms/step - loss: 0.0978 - acc: 0.9644 - val_loss: 0.2128 - val_acc: 0.9214\n",
      "Epoch 18/100\n",
      "70/70 [==============================] - 17s 239ms/step - loss: 0.1018 - acc: 0.9626 - val_loss: 0.0783 - val_acc: 0.9689\n",
      "Epoch 19/100\n",
      "70/70 [==============================] - 17s 238ms/step - loss: 0.0910 - acc: 0.9658 - val_loss: 0.0992 - val_acc: 0.9663\n",
      "Epoch 20/100\n",
      "70/70 [==============================] - 17s 239ms/step - loss: 0.0879 - acc: 0.9671 - val_loss: 0.0779 - val_acc: 0.9737\n",
      "Epoch 21/100\n",
      "70/70 [==============================] - 17s 238ms/step - loss: 0.0837 - acc: 0.9682 - val_loss: 0.1028 - val_acc: 0.9611\n",
      "Epoch 22/100\n",
      "70/70 [==============================] - 17s 239ms/step - loss: 0.0747 - acc: 0.9711 - val_loss: 0.0693 - val_acc: 0.9743\n",
      "Epoch 23/100\n",
      "70/70 [==============================] - 17s 241ms/step - loss: 0.0728 - acc: 0.9733 - val_loss: 0.1088 - val_acc: 0.9597\n",
      "Epoch 24/100\n",
      "70/70 [==============================] - 17s 239ms/step - loss: 0.0713 - acc: 0.9731 - val_loss: 0.0566 - val_acc: 0.9791\n",
      "Epoch 25/100\n",
      "70/70 [==============================] - 17s 242ms/step - loss: 0.0652 - acc: 0.9761 - val_loss: 0.0577 - val_acc: 0.9780\n",
      "Epoch 26/100\n",
      "70/70 [==============================] - 17s 239ms/step - loss: 0.0649 - acc: 0.9758 - val_loss: 0.0788 - val_acc: 0.9737\n",
      "Epoch 27/100\n",
      "70/70 [==============================] - 17s 240ms/step - loss: 0.0627 - acc: 0.9759 - val_loss: 0.0773 - val_acc: 0.9703\n",
      "Epoch 28/100\n",
      "70/70 [==============================] - 17s 240ms/step - loss: 0.0588 - acc: 0.9781 - val_loss: 0.0589 - val_acc: 0.9771\n",
      "Epoch 29/100\n",
      "70/70 [==============================] - 17s 238ms/step - loss: 0.0571 - acc: 0.9781 - val_loss: 0.0515 - val_acc: 0.9820\n",
      "Epoch 30/100\n",
      "70/70 [==============================] - 17s 238ms/step - loss: 0.0553 - acc: 0.9781 - val_loss: 0.0513 - val_acc: 0.9800\n",
      "Epoch 31/100\n",
      "70/70 [==============================] - 17s 240ms/step - loss: 0.0540 - acc: 0.9797 - val_loss: 0.0475 - val_acc: 0.9829\n",
      "Epoch 32/100\n",
      "70/70 [==============================] - 17s 238ms/step - loss: 0.0518 - acc: 0.9804 - val_loss: 0.0769 - val_acc: 0.9691\n",
      "Epoch 33/100\n",
      "70/70 [==============================] - 17s 237ms/step - loss: 0.0557 - acc: 0.9786 - val_loss: 0.2275 - val_acc: 0.9169\n",
      "Epoch 34/100\n",
      "70/70 [==============================] - 17s 238ms/step - loss: 0.0542 - acc: 0.9791 - val_loss: 0.0443 - val_acc: 0.9849\n",
      "Epoch 35/100\n",
      "70/70 [==============================] - 17s 236ms/step - loss: 0.0494 - acc: 0.9809 - val_loss: 0.0371 - val_acc: 0.9860\n",
      "Epoch 36/100\n",
      "70/70 [==============================] - 17s 238ms/step - loss: 0.0466 - acc: 0.9822 - val_loss: 0.0445 - val_acc: 0.9820\n",
      "Epoch 37/100\n",
      "70/70 [==============================] - 17s 239ms/step - loss: 0.0453 - acc: 0.9839 - val_loss: 0.0537 - val_acc: 0.9806\n",
      "Epoch 38/100\n",
      "70/70 [==============================] - 17s 241ms/step - loss: 0.0427 - acc: 0.9834 - val_loss: 0.0499 - val_acc: 0.9826\n",
      "Epoch 39/100\n",
      "70/70 [==============================] - 17s 236ms/step - loss: 0.0423 - acc: 0.9830 - val_loss: 0.1588 - val_acc: 0.9366\n",
      "Epoch 40/100\n",
      "70/70 [==============================] - 17s 237ms/step - loss: 0.0448 - acc: 0.9836 - val_loss: 0.0491 - val_acc: 0.9817\n",
      "Epoch 41/100\n",
      "70/70 [==============================] - 17s 238ms/step - loss: 0.0453 - acc: 0.9834 - val_loss: 0.0492 - val_acc: 0.9837\n",
      "Epoch 42/100\n",
      "70/70 [==============================] - 17s 243ms/step - loss: 0.0391 - acc: 0.9848 - val_loss: 0.0295 - val_acc: 0.9906\n",
      "Epoch 43/100\n",
      "70/70 [==============================] - 17s 245ms/step - loss: 0.0402 - acc: 0.9854 - val_loss: 0.0727 - val_acc: 0.9686\n",
      "Epoch 44/100\n",
      "70/70 [==============================] - 17s 243ms/step - loss: 0.0371 - acc: 0.9858 - val_loss: 0.0384 - val_acc: 0.9849\n",
      "Epoch 45/100\n",
      "70/70 [==============================] - 17s 243ms/step - loss: 0.0386 - acc: 0.9851 - val_loss: 0.0313 - val_acc: 0.9891\n",
      "Epoch 46/100\n",
      "70/70 [==============================] - 17s 245ms/step - loss: 0.0369 - acc: 0.9864 - val_loss: 0.0465 - val_acc: 0.9806\n",
      "Epoch 47/100\n",
      "70/70 [==============================] - 17s 245ms/step - loss: 0.0346 - acc: 0.9876 - val_loss: 0.0316 - val_acc: 0.9894\n",
      "Epoch 48/100\n",
      "70/70 [==============================] - 17s 244ms/step - loss: 0.0372 - acc: 0.9866 - val_loss: 0.0363 - val_acc: 0.9866\n",
      "Epoch 49/100\n",
      "70/70 [==============================] - 17s 243ms/step - loss: 0.0317 - acc: 0.9879 - val_loss: 0.0334 - val_acc: 0.9883\n",
      "Epoch 50/100\n",
      "70/70 [==============================] - 17s 241ms/step - loss: 0.0314 - acc: 0.9891 - val_loss: 0.0293 - val_acc: 0.9909\n",
      "Epoch 51/100\n",
      "70/70 [==============================] - 17s 241ms/step - loss: 0.0328 - acc: 0.9871 - val_loss: 0.0618 - val_acc: 0.9763\n",
      "Epoch 52/100\n",
      "70/70 [==============================] - 17s 242ms/step - loss: 0.0325 - acc: 0.9882 - val_loss: 0.0326 - val_acc: 0.9880\n",
      "Epoch 53/100\n",
      "70/70 [==============================] - 17s 240ms/step - loss: 0.0386 - acc: 0.9854 - val_loss: 0.0596 - val_acc: 0.9763\n",
      "Epoch 54/100\n",
      "70/70 [==============================] - 17s 241ms/step - loss: 0.0333 - acc: 0.9866 - val_loss: 0.0316 - val_acc: 0.9894\n",
      "Epoch 55/100\n",
      "70/70 [==============================] - 17s 241ms/step - loss: 0.0301 - acc: 0.9899 - val_loss: 0.0306 - val_acc: 0.9889\n",
      "Epoch 56/100\n",
      "70/70 [==============================] - 17s 243ms/step - loss: 0.0348 - acc: 0.9870 - val_loss: 0.0550 - val_acc: 0.9809\n",
      "Epoch 57/100\n",
      "70/70 [==============================] - 17s 241ms/step - loss: 0.0314 - acc: 0.9876 - val_loss: 0.0326 - val_acc: 0.9894\n",
      "Epoch 58/100\n",
      "70/70 [==============================] - 17s 242ms/step - loss: 0.0291 - acc: 0.9886 - val_loss: 0.0331 - val_acc: 0.9883\n",
      "Epoch 59/100\n",
      "70/70 [==============================] - 17s 242ms/step - loss: 0.0306 - acc: 0.9896 - val_loss: 0.0253 - val_acc: 0.9917\n",
      "Epoch 60/100\n",
      "70/70 [==============================] - 17s 241ms/step - loss: 0.0297 - acc: 0.9892 - val_loss: 0.0335 - val_acc: 0.9891\n",
      "Epoch 61/100\n",
      "70/70 [==============================] - 17s 243ms/step - loss: 0.0278 - acc: 0.9895 - val_loss: 0.0371 - val_acc: 0.9883\n",
      "Epoch 62/100\n",
      "70/70 [==============================] - 17s 241ms/step - loss: 0.0285 - acc: 0.9897 - val_loss: 0.0309 - val_acc: 0.9900\n",
      "Epoch 63/100\n",
      "70/70 [==============================] - 17s 243ms/step - loss: 0.0293 - acc: 0.9899 - val_loss: 0.0846 - val_acc: 0.9729\n",
      "Epoch 64/100\n",
      "70/70 [==============================] - 17s 240ms/step - loss: 0.0300 - acc: 0.9889 - val_loss: 0.0658 - val_acc: 0.9760\n",
      "Epoch 65/100\n",
      "70/70 [==============================] - 17s 243ms/step - loss: 0.0281 - acc: 0.9899 - val_loss: 0.0801 - val_acc: 0.9737\n",
      "Epoch 66/100\n",
      "70/70 [==============================] - 17s 243ms/step - loss: 0.0277 - acc: 0.9894 - val_loss: 0.0394 - val_acc: 0.9874\n",
      "Epoch 67/100\n",
      "70/70 [==============================] - 17s 243ms/step - loss: 0.0237 - acc: 0.9911 - val_loss: 0.2510 - val_acc: 0.9094\n",
      "Epoch 68/100\n",
      "70/70 [==============================] - 17s 240ms/step - loss: 0.0257 - acc: 0.9907 - val_loss: 0.0241 - val_acc: 0.9914\n",
      "Epoch 69/100\n",
      "70/70 [==============================] - 17s 241ms/step - loss: 0.0256 - acc: 0.9904 - val_loss: 0.2156 - val_acc: 0.9314\n",
      "Epoch 70/100\n",
      "70/70 [==============================] - 17s 241ms/step - loss: 0.0291 - acc: 0.9893 - val_loss: 0.0833 - val_acc: 0.9691\n",
      "Epoch 71/100\n",
      "70/70 [==============================] - 17s 242ms/step - loss: 0.0270 - acc: 0.9893 - val_loss: 0.0954 - val_acc: 0.9689\n",
      "Epoch 72/100\n",
      "70/70 [==============================] - 17s 240ms/step - loss: 0.0235 - acc: 0.9905 - val_loss: 0.0620 - val_acc: 0.9774\n",
      "Epoch 73/100\n",
      "70/70 [==============================] - 17s 241ms/step - loss: 0.0228 - acc: 0.9919 - val_loss: 0.0201 - val_acc: 0.9943\n",
      "Epoch 74/100\n",
      "70/70 [==============================] - 17s 242ms/step - loss: 0.0223 - acc: 0.9909 - val_loss: 0.0349 - val_acc: 0.9874\n",
      "Epoch 75/100\n",
      "70/70 [==============================] - 17s 245ms/step - loss: 0.0225 - acc: 0.9921 - val_loss: 0.0384 - val_acc: 0.9869\n",
      "Epoch 76/100\n",
      "70/70 [==============================] - 17s 240ms/step - loss: 0.0220 - acc: 0.9919 - val_loss: 0.0261 - val_acc: 0.9909\n",
      "Epoch 77/100\n",
      "70/70 [==============================] - 17s 241ms/step - loss: 0.0249 - acc: 0.9898 - val_loss: 0.0356 - val_acc: 0.9874\n",
      "Epoch 78/100\n",
      "70/70 [==============================] - 17s 240ms/step - loss: 0.0225 - acc: 0.9904 - val_loss: 0.1222 - val_acc: 0.9549\n",
      "Epoch 79/100\n",
      "70/70 [==============================] - 17s 243ms/step - loss: 0.0205 - acc: 0.9930 - val_loss: 0.8560 - val_acc: 0.8566\n",
      "Epoch 80/100\n",
      "70/70 [==============================] - 17s 244ms/step - loss: 0.0246 - acc: 0.9905 - val_loss: 0.0267 - val_acc: 0.9914\n",
      "Epoch 81/100\n",
      "70/70 [==============================] - 17s 244ms/step - loss: 0.0229 - acc: 0.9906 - val_loss: 0.0227 - val_acc: 0.9909\n",
      "Epoch 82/100\n",
      "70/70 [==============================] - 17s 241ms/step - loss: 0.0216 - acc: 0.9924 - val_loss: 0.0214 - val_acc: 0.9934\n",
      "Epoch 83/100\n",
      "70/70 [==============================] - 17s 241ms/step - loss: 0.0187 - acc: 0.9929 - val_loss: 0.0979 - val_acc: 0.9651\n",
      "Epoch 84/100\n",
      "70/70 [==============================] - 17s 241ms/step - loss: 0.0178 - acc: 0.9939 - val_loss: 0.0164 - val_acc: 0.9940\n",
      "Epoch 85/100\n",
      "70/70 [==============================] - 17s 243ms/step - loss: 0.0154 - acc: 0.9946 - val_loss: 0.0446 - val_acc: 0.9860\n",
      "Epoch 86/100\n",
      "15/70 [=====>........................] - ETA: 11s - loss: 0.0159 - acc: 0.9943"
     ]
    }
   ],
   "source": [
    "base_model = applications.resnet50.ResNet50(weights= None, include_top=False, input_shape= (64,64,3))\n",
    "\n",
    "x = base_model.output\n",
    "x = GlobalAveragePooling2D()(x)\n",
    "x = Dropout(0.2)(x)\n",
    "predictions = Dense(2, activation= 'softmax')(x)\n",
    "model = Model(inputs = base_model.input, outputs = predictions)\n",
    "from keras.optimizers import SGD, Adam\n",
    "# sgd = SGD(lr=lrate, momentum=0.9, decay=decay, nesterov=False)\n",
    "adam = Adam(lr=0.0001)\n",
    "model.compile(optimizer= adam, loss='categorical_crossentropy', metrics=['accuracy'])\n",
    "\n",
    "# model.fit(X_train, Y_train, epochs = 100, batch_size = 64)\n",
    "\n",
    "model.fit_generator(datagen.flow(X_train, y_train, batch_size = batch_size), epochs=100, \n",
    "                              steps_per_epoch=X_train.shape[0] // batch_size, \n",
    "                              validation_data=(X_test, y_test),\n",
    "                             class_weight = class_weights)"
   ]
  },
  {
   "cell_type": "code",
   "execution_count": 25,
   "metadata": {},
   "outputs": [
    {
     "data": {
      "image/png": "[encoded data removed]",
      "text/plain": [
       "<Figure size 432x288 with 2 Axes>"
      ]
     },
     "metadata": {
      "needs_background": "light"
     },
     "output_type": "display_data"
    }
   ],
   "source": [
    "# Predict the values from the validation dataset\n",
    "Y_pred = model.predict(X_test) \n",
    "type(Y_pred)\n",
    "Y_pred = Y_pred.argmax(axis=-1)\n",
    "\n",
    "\n",
    "# # compute the confusion matrix\n",
    "confusion_mtx = confusion_matrix(y_test_class, Y_pred) \n",
    "confusion_mtx\n",
    "# plot the confusion matrix\n",
    "plot_confusion_matrix(confusion_mtx, classes = range(0,2)) "
   ]
  },
  {
   "cell_type": "code",
   "execution_count": 26,
   "metadata": {},
   "outputs": [],
   "source": [
    "resnet_pred =  model.predict(test_images)\n",
    "# resnet_pred = resnet_pred.argmax(axis=-1)\n",
    "\n",
    "\n",
    "# final_predictions =  (base_cnn_pred + resnet_pred) / 2\n",
    "# final_predictions = np.where(final_predictions >= 0.5, 1, 0)\n",
    "test['has_cactus'] = resnet_pred\n",
    "\n",
    "test[['id','has_cactus']]\n",
    "test.to_csv('output.csv',  index=False)"
   ]
  }
 ],
 "metadata": {
  "kernelspec": {
   "display_name": "Python 3 (ipykernel)",
   "language": "python",
   "name": "python3"
  },
  "language_info": {
   "codemirror_mode": {
    "name": "ipython",
    "version": 3
   },
   "file_extension": ".py",
   "mimetype": "text/x-python",
   "name": "python",
   "nbconvert_exporter": "python",
   "pygments_lexer": "ipython3",
   "version": "3.9.13"
  }
 },
 "nbformat": 4,
 "nbformat_minor": 4
}
