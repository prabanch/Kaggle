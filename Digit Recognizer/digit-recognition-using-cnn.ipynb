{
 "cells": [
  {
   "cell_type": "code",
   "execution_count": 1,
   "metadata": {
    "_cell_guid": "b1076dfc-b9ad-4769-8c92-a6c4dae69d19",
    "_uuid": "8f2839f25d086af736a60e9eeb907d3b93b6e0e5"
   },
   "outputs": [
    {
     "name": "stdout",
     "output_type": "stream",
     "text": [
      "['train.csv', 'sample_submission.csv', 'test.csv']\n"
     ]
    }
   ],
   "source": [
    "# This Python 3 environment comes with many helpful analytics libraries installed\n",
    "# It is defined by the kaggle/python docker image: https://github.com/kaggle/docker-python\n",
    "# For example, here's several helpful packages to load in \n",
    "\n",
    "import numpy as np # linear algebra\n",
    "import pandas as pd # data processing, CSV file I/O (e.g. pd.read_csv)\n",
    "\n",
    "# Input data files are available in the \"../input/\" directory.\n",
    "# For example, running this (by clicking run or pressing Shift+Enter) will list the files in the input directory\n",
    "\n",
    "import os\n",
    "print(os.listdir(\"../input\"))\n",
    "\n",
    "# Any results you write to the current directory are saved as output."
   ]
  },
  {
   "cell_type": "code",
   "execution_count": 2,
   "metadata": {
    "_uuid": "633d370c95a67365fe0186007aa352d8d35e625c"
   },
   "outputs": [
    {
     "name": "stderr",
     "output_type": "stream",
     "text": [
      "Using TensorFlow backend.\n",
      "/opt/conda/lib/python3.6/site-packages/tensorflow/python/framework/dtypes.py:516: FutureWarning: Passing (type, 1) or '1type' as a synonym of type is deprecated; in a future version of numpy, it will be understood as (type, (1,)) / '(1,)type'.\n",
      "  _np_qint8 = np.dtype([(\"qint8\", np.int8, 1)])\n",
      "/opt/conda/lib/python3.6/site-packages/tensorflow/python/framework/dtypes.py:517: FutureWarning: Passing (type, 1) or '1type' as a synonym of type is deprecated; in a future version of numpy, it will be understood as (type, (1,)) / '(1,)type'.\n",
      "  _np_quint8 = np.dtype([(\"quint8\", np.uint8, 1)])\n",
      "/opt/conda/lib/python3.6/site-packages/tensorflow/python/framework/dtypes.py:518: FutureWarning: Passing (type, 1) or '1type' as a synonym of type is deprecated; in a future version of numpy, it will be understood as (type, (1,)) / '(1,)type'.\n",
      "  _np_qint16 = np.dtype([(\"qint16\", np.int16, 1)])\n",
      "/opt/conda/lib/python3.6/site-packages/tensorflow/python/framework/dtypes.py:519: FutureWarning: Passing (type, 1) or '1type' as a synonym of type is deprecated; in a future version of numpy, it will be understood as (type, (1,)) / '(1,)type'.\n",
      "  _np_quint16 = np.dtype([(\"quint16\", np.uint16, 1)])\n",
      "/opt/conda/lib/python3.6/site-packages/tensorflow/python/framework/dtypes.py:520: FutureWarning: Passing (type, 1) or '1type' as a synonym of type is deprecated; in a future version of numpy, it will be understood as (type, (1,)) / '(1,)type'.\n",
      "  _np_qint32 = np.dtype([(\"qint32\", np.int32, 1)])\n",
      "/opt/conda/lib/python3.6/site-packages/tensorflow/python/framework/dtypes.py:525: FutureWarning: Passing (type, 1) or '1type' as a synonym of type is deprecated; in a future version of numpy, it will be understood as (type, (1,)) / '(1,)type'.\n",
      "  np_resource = np.dtype([(\"resource\", np.ubyte, 1)])\n",
      "/opt/conda/lib/python3.6/site-packages/tensorboard/compat/tensorflow_stub/dtypes.py:541: FutureWarning: Passing (type, 1) or '1type' as a synonym of type is deprecated; in a future version of numpy, it will be understood as (type, (1,)) / '(1,)type'.\n",
      "  _np_qint8 = np.dtype([(\"qint8\", np.int8, 1)])\n",
      "/opt/conda/lib/python3.6/site-packages/tensorboard/compat/tensorflow_stub/dtypes.py:542: FutureWarning: Passing (type, 1) or '1type' as a synonym of type is deprecated; in a future version of numpy, it will be understood as (type, (1,)) / '(1,)type'.\n",
      "  _np_quint8 = np.dtype([(\"quint8\", np.uint8, 1)])\n",
      "/opt/conda/lib/python3.6/site-packages/tensorboard/compat/tensorflow_stub/dtypes.py:543: FutureWarning: Passing (type, 1) or '1type' as a synonym of type is deprecated; in a future version of numpy, it will be understood as (type, (1,)) / '(1,)type'.\n",
      "  _np_qint16 = np.dtype([(\"qint16\", np.int16, 1)])\n",
      "/opt/conda/lib/python3.6/site-packages/tensorboard/compat/tensorflow_stub/dtypes.py:544: FutureWarning: Passing (type, 1) or '1type' as a synonym of type is deprecated; in a future version of numpy, it will be understood as (type, (1,)) / '(1,)type'.\n",
      "  _np_quint16 = np.dtype([(\"quint16\", np.uint16, 1)])\n",
      "/opt/conda/lib/python3.6/site-packages/tensorboard/compat/tensorflow_stub/dtypes.py:545: FutureWarning: Passing (type, 1) or '1type' as a synonym of type is deprecated; in a future version of numpy, it will be understood as (type, (1,)) / '(1,)type'.\n",
      "  _np_qint32 = np.dtype([(\"qint32\", np.int32, 1)])\n",
      "/opt/conda/lib/python3.6/site-packages/tensorboard/compat/tensorflow_stub/dtypes.py:550: FutureWarning: Passing (type, 1) or '1type' as a synonym of type is deprecated; in a future version of numpy, it will be understood as (type, (1,)) / '(1,)type'.\n",
      "  np_resource = np.dtype([(\"resource\", np.ubyte, 1)])\n"
     ]
    }
   ],
   "source": [
    "import keras\n",
    "from keras.models import Sequential\n",
    "from keras.layers import Dense, Dropout, Flatten\n",
    "from keras.layers import Conv2D, MaxPooling2D\n",
    "from keras.utils import to_categorical\n",
    "from keras.preprocessing import image\n",
    "import numpy as np\n",
    "import pandas as pd\n",
    "import matplotlib.pyplot as plt\n",
    "from sklearn.model_selection import train_test_split\n",
    "from keras.utils import to_categorical\n",
    "from tqdm import tqdm"
   ]
  },
  {
   "cell_type": "code",
   "execution_count": 3,
   "metadata": {
    "_uuid": "c13b706b9f4777d0e761c0b837d97b52b3e2eda7"
   },
   "outputs": [],
   "source": [
    "train=pd.read_csv('../input/train.csv')\n",
    "test=pd.read_csv('../input/test.csv')"
   ]
  },
  {
   "cell_type": "code",
   "execution_count": 4,
   "metadata": {},
   "outputs": [],
   "source": [
    "features = [c for c in train.columns if c not in ['label']]\n",
    "# target = train['label']\n",
    "\n",
    "y=train['label']\n",
    "\n",
    "# Drop 'label' column\n",
    "X = train.drop(labels = [\"label\"],axis = 1) \n",
    "# Reshape image in 3 dimensions (height = 28px, width = 28px , canal = 1)\n",
    "X = X.values.reshape(-1,28,28,1)\n",
    "test = test.values.reshape(-1,28,28,1)\n"
   ]
  },
  {
   "cell_type": "code",
   "execution_count": 5,
   "metadata": {
    "_cell_guid": "79c7e3d0-c299-4dcb-8224-4455121ee9b0",
    "_uuid": "d629ff2d2480ee46fbb7e2d37f6b5fab8052498a"
   },
   "outputs": [],
   "source": [
    "# As it is a multi-class classification problem (10 classes), we will one-hot encode the target variable.\n",
    "y = to_categorical(y)"
   ]
  },
  {
   "cell_type": "code",
   "execution_count": 6,
   "metadata": {},
   "outputs": [],
   "source": [
    "# Normalize the data\n",
    "X = X / 255.0\n",
    "test = test / 255.0\n",
    "\n"
   ]
  },
  {
   "cell_type": "code",
   "execution_count": 7,
   "metadata": {
    "_uuid": "e62a89ec37bbb3eea04e42d4f2ecf6d85677e72b"
   },
   "outputs": [],
   "source": [
    "# Step 4: Creating a validation set from the training data.\n",
    "\n",
    "X_train, X_test, y_train, y_test = train_test_split(X, y, random_state=42, test_size=0.1)"
   ]
  },
  {
   "cell_type": "code",
   "execution_count": 8,
   "metadata": {
    "_uuid": "05293ba202a5a59395b835839ed03704c7d2fea6"
   },
   "outputs": [],
   "source": [
    "# Step 5: Define the model structure.\n",
    "\n",
    "# We will create a simple architecture with 2 convolutional layers, one dense hidden layer and an output layer.\n",
    "\n",
    "model = Sequential()\n",
    "model.add(Conv2D(64, kernel_size=(3, 3), padding='same',activation='relu',input_shape=(28,28,1)))\n",
    "model.add(Conv2D(64, (3, 3), padding='same', activation='relu'))\n",
    "model.add(MaxPooling2D(pool_size=(2, 2)))\n",
    "model.add(Dropout(0.25))\n",
    "\n",
    "model.add(Conv2D(64, 5, padding='same', activation='relu'))\n",
    "model.add(Conv2D(64, 5, padding='same', activation='relu'))\n",
    "model.add(MaxPooling2D((2, 2)))\n",
    "model.add(Dropout(0.5))\n",
    "\n",
    "\n",
    "model.add(Flatten())\n",
    "model.add(Dense(256, activation='relu'))\n",
    "model.add(Dropout(0.5))\n",
    "model.add(Dense(10, activation='softmax'))"
   ]
  },
  {
   "cell_type": "code",
   "execution_count": 9,
   "metadata": {
    "_uuid": "cb4cc569dd040f4a7ac446213b33a51edda9b8b7"
   },
   "outputs": [],
   "source": [
    "# Next, we will compile the model we’ve created.\n",
    "\n",
    "model.compile(loss='categorical_crossentropy',optimizer='Adam',metrics=['accuracy'])\n"
   ]
  },
  {
   "cell_type": "code",
   "execution_count": 10,
   "metadata": {},
   "outputs": [
    {
     "name": "stdout",
     "output_type": "stream",
     "text": [
      "_________________________________________________________________\n",
      "Layer (type)                 Output Shape              Param #   \n",
      "=================================================================\n",
      "conv2d_1 (Conv2D)            (None, 28, 28, 64)        640       \n",
      "_________________________________________________________________\n",
      "conv2d_2 (Conv2D)            (None, 28, 28, 64)        36928     \n",
      "_________________________________________________________________\n",
      "max_pooling2d_1 (MaxPooling2 (None, 14, 14, 64)        0         \n",
      "_________________________________________________________________\n",
      "dropout_1 (Dropout)          (None, 14, 14, 64)        0         \n",
      "_________________________________________________________________\n",
      "conv2d_3 (Conv2D)            (None, 14, 14, 64)        102464    \n",
      "_________________________________________________________________\n",
      "conv2d_4 (Conv2D)            (None, 14, 14, 64)        102464    \n",
      "_________________________________________________________________\n",
      "max_pooling2d_2 (MaxPooling2 (None, 7, 7, 64)          0         \n",
      "_________________________________________________________________\n",
      "dropout_2 (Dropout)          (None, 7, 7, 64)          0         \n",
      "_________________________________________________________________\n",
      "flatten_1 (Flatten)          (None, 3136)              0         \n",
      "_________________________________________________________________\n",
      "dense_1 (Dense)              (None, 256)               803072    \n",
      "_________________________________________________________________\n",
      "dropout_3 (Dropout)          (None, 256)               0         \n",
      "_________________________________________________________________\n",
      "dense_2 (Dense)              (None, 10)                2570      \n",
      "=================================================================\n",
      "Total params: 1,048,138\n",
      "Trainable params: 1,048,138\n",
      "Non-trainable params: 0\n",
      "_________________________________________________________________\n"
     ]
    }
   ],
   "source": [
    "model.summary()"
   ]
  },
  {
   "cell_type": "code",
   "execution_count": 11,
   "metadata": {},
   "outputs": [],
   "source": [
    "# Data Augmentation\n",
    "from keras.preprocessing.image import ImageDataGenerator, array_to_img, img_to_array, load_img\n",
    "\n",
    "datagen = ImageDataGenerator(\n",
    "        rotation_range=40,\n",
    "        width_shift_range=0.2,\n",
    "        height_shift_range=0.2,\n",
    "        shear_range=0.2,\n",
    "        zoom_range=0.2,\n",
    "        horizontal_flip=True,\n",
    "        fill_mode='nearest')\n",
    "\n",
    "datagen.fit(X_train)"
   ]
  },
  {
   "cell_type": "code",
   "execution_count": 12,
   "metadata": {
    "_uuid": "0d57b134c8d46f27c41a9fb65a148111165cab12"
   },
   "outputs": [
    {
     "name": "stdout",
     "output_type": "stream",
     "text": [
      "Epoch 1/50\n",
      "472/472 [==============================] - 22s 46ms/step - loss: 1.1943 - acc: 0.5886 - val_loss: 0.2858 - val_acc: 0.9126\n",
      "Epoch 2/50\n",
      "472/472 [==============================] - 14s 29ms/step - loss: 0.4827 - acc: 0.8487 - val_loss: 0.1381 - val_acc: 0.9574\n",
      "Epoch 3/50\n",
      "472/472 [==============================] - 14s 30ms/step - loss: 0.3412 - acc: 0.8953 - val_loss: 0.1011 - val_acc: 0.9698\n",
      "Epoch 4/50\n",
      "472/472 [==============================] - 15s 31ms/step - loss: 0.2876 - acc: 0.9139 - val_loss: 0.0848 - val_acc: 0.9738\n",
      "Epoch 5/50\n",
      "472/472 [==============================] - 14s 30ms/step - loss: 0.2537 - acc: 0.9230 - val_loss: 0.0875 - val_acc: 0.9714\n",
      "Epoch 6/50\n",
      "472/472 [==============================] - 14s 29ms/step - loss: 0.2332 - acc: 0.9304 - val_loss: 0.0800 - val_acc: 0.9748\n",
      "Epoch 7/50\n",
      "472/472 [==============================] - 14s 29ms/step - loss: 0.2150 - acc: 0.9364 - val_loss: 0.0879 - val_acc: 0.9733\n",
      "Epoch 8/50\n",
      "472/472 [==============================] - 14s 29ms/step - loss: 0.2019 - acc: 0.9385 - val_loss: 0.0763 - val_acc: 0.9760\n",
      "Epoch 9/50\n",
      "472/472 [==============================] - 14s 29ms/step - loss: 0.1988 - acc: 0.9409 - val_loss: 0.0711 - val_acc: 0.9790\n",
      "Epoch 10/50\n",
      "472/472 [==============================] - 14s 29ms/step - loss: 0.1907 - acc: 0.9420 - val_loss: 0.0676 - val_acc: 0.9805\n",
      "Epoch 11/50\n",
      "472/472 [==============================] - 14s 29ms/step - loss: 0.1870 - acc: 0.9449 - val_loss: 0.0754 - val_acc: 0.9795\n",
      "Epoch 12/50\n",
      "472/472 [==============================] - 14s 29ms/step - loss: 0.1801 - acc: 0.9466 - val_loss: 0.0748 - val_acc: 0.9752\n",
      "Epoch 13/50\n",
      "472/472 [==============================] - 14s 29ms/step - loss: 0.1767 - acc: 0.9467 - val_loss: 0.0759 - val_acc: 0.9748\n",
      "Epoch 14/50\n",
      "472/472 [==============================] - 14s 30ms/step - loss: 0.1620 - acc: 0.9510 - val_loss: 0.0693 - val_acc: 0.9779\n",
      "Epoch 15/50\n",
      "472/472 [==============================] - 14s 29ms/step - loss: 0.1617 - acc: 0.9519 - val_loss: 0.0746 - val_acc: 0.9760\n",
      "Epoch 16/50\n",
      "472/472 [==============================] - 14s 29ms/step - loss: 0.1640 - acc: 0.9503 - val_loss: 0.0677 - val_acc: 0.9800\n",
      "Epoch 17/50\n",
      "472/472 [==============================] - 14s 29ms/step - loss: 0.1564 - acc: 0.9538 - val_loss: 0.0741 - val_acc: 0.9767\n",
      "Epoch 18/50\n",
      "472/472 [==============================] - 14s 30ms/step - loss: 0.1561 - acc: 0.9528 - val_loss: 0.0592 - val_acc: 0.9810\n",
      "Epoch 19/50\n",
      "472/472 [==============================] - 14s 29ms/step - loss: 0.1500 - acc: 0.9555 - val_loss: 0.0494 - val_acc: 0.9838\n",
      "Epoch 20/50\n",
      "472/472 [==============================] - 14s 29ms/step - loss: 0.1496 - acc: 0.9547 - val_loss: 0.0595 - val_acc: 0.9817\n",
      "Epoch 21/50\n",
      "472/472 [==============================] - 14s 29ms/step - loss: 0.1481 - acc: 0.9561 - val_loss: 0.0553 - val_acc: 0.9840\n",
      "Epoch 22/50\n",
      "472/472 [==============================] - 14s 29ms/step - loss: 0.1450 - acc: 0.9567 - val_loss: 0.0525 - val_acc: 0.9829\n",
      "Epoch 23/50\n",
      "472/472 [==============================] - 14s 29ms/step - loss: 0.1481 - acc: 0.9572 - val_loss: 0.0573 - val_acc: 0.9817\n",
      "Epoch 24/50\n",
      "472/472 [==============================] - 14s 29ms/step - loss: 0.1423 - acc: 0.9574 - val_loss: 0.0542 - val_acc: 0.9831\n",
      "Epoch 25/50\n",
      "472/472 [==============================] - 14s 29ms/step - loss: 0.1392 - acc: 0.9580 - val_loss: 0.0692 - val_acc: 0.9793\n",
      "Epoch 26/50\n",
      "192/472 [===========>..................] - ETA: 7s - loss: 0.1377 - acc: 0.9598"
     ]
    }
   ],
   "source": [
    "# Step 6: Training the model.\n",
    "\n",
    "# In this step, we will train the model on the training set images and validate it using, you guessed it, the validation set.\n",
    "batch_size = 80\n",
    "results  = model.fit_generator(datagen.flow(X_train, y_train, batch_size = batch_size), epochs=50, \n",
    "                               steps_per_epoch=X_train.shape[0] // batch_size, \n",
    "                               validation_data=(X_test, y_test))"
   ]
  },
  {
   "cell_type": "code",
   "execution_count": 13,
   "metadata": {},
   "outputs": [
    {
     "data": {
      "text/plain": [
       "keras.callbacks.History"
      ]
     },
     "execution_count": 13,
     "metadata": {},
     "output_type": "execute_result"
    }
   ],
   "source": [
    "type(model.history)"
   ]
  },
  {
   "cell_type": "code",
   "execution_count": 14,
   "metadata": {},
   "outputs": [
    {
     "data": {
      "image/png": "[encoded data removed]",
      "text/plain": [
       "<Figure size 432x288 with 2 Axes>"
      ]
     },
     "metadata": {
      "needs_background": "light"
     },
     "output_type": "display_data"
    }
   ],
   "source": [
    "# Plot the loss and accuracy curves for training and validation \n",
    "fig, ax = plt.subplots(2,1)\n",
    "ax[0].plot(results.history['loss'], color='b', label=\"Training loss\")\n",
    "ax[0].plot(results.history['val_loss'], color='r', label=\"validation loss\",axes =ax[0])\n",
    "legend = ax[0].legend(loc='best', shadow=True)\n",
    "\n",
    "ax[1].plot(results.history['acc'], color='b', label=\"Training accuracy\")\n",
    "ax[1].plot(results.history['val_acc'], color='r',label=\"Validation accuracy\")\n",
    "legend = ax[1].legend(loc='best', shadow=True)"
   ]
  },
  {
   "cell_type": "code",
   "execution_count": 15,
   "metadata": {
    "_uuid": "b6d2cd69327f5ba2c6d94ba9118cfd17f63b4320"
   },
   "outputs": [
    {
     "name": "stdout",
     "output_type": "stream",
     "text": [
      "Final loss: 0.0563, final accuracy: 0.9805\n"
     ]
    }
   ],
   "source": [
    "# Step 7: Find Accuracy\n",
    "final_loss, final_acc = model.evaluate(X_test, y_test, verbose=0)\n",
    "print(\"Final loss: {0:.4f}, final accuracy: {1:.4f}\".format(final_loss, final_acc))"
   ]
  },
  {
   "cell_type": "code",
   "execution_count": 16,
   "metadata": {
    "_uuid": "9ef2d5eb6aa4533408363b22da55e781c37d37cb"
   },
   "outputs": [],
   "source": [
    "# making predictions\n",
    "# prediction = model.predict_classes(X_test)"
   ]
  },
  {
   "cell_type": "code",
   "execution_count": 17,
   "metadata": {
    "_uuid": "806bc26d217dd5243bffd736dc30dbe89a97565a"
   },
   "outputs": [],
   "source": [
    "# predict results\n",
    "prediction = model.predict(test)\n",
    "# select the indix with the maximum probability\n",
    "prediction = np.argmax(prediction,axis = 1)\n",
    "\n",
    "\n",
    "output=pd.DataFrame({\"ImageId\": list(range(1,len(prediction)+1)),\n",
    "                         \"Label\": prediction})\n",
    "output.to_csv(\"output.csv\", index=False, header=True)"
   ]
  }
 ],
 "metadata": {
  "kernelspec": {
   "display_name": "Python 3",
   "language": "python",
   "name": "python3"
  },
  "language_info": {
   "codemirror_mode": {
    "name": "ipython",
    "version": 3
   },
   "file_extension": ".py",
   "mimetype": "text/x-python",
   "name": "python",
   "nbconvert_exporter": "python",
   "pygments_lexer": "ipython3",
   "version": "3.6.6"
  }
 },
 "nbformat": 4,
 "nbformat_minor": 1
}
